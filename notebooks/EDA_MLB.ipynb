{
 "cells": [
  {
   "cell_type": "markdown",
   "metadata": {},
   "source": [
    "## MLB EDA and Modeling Prep\n",
    "### Explore MLB datasets loaded by `mlb_stats_etl`, and prepare modeling-ready features to predict outcomes such as:\n",
    "### - Home team win/loss\n",
    "### - Total score\n",
    "### - Player RBIs for an upcoming game"
   ]
  },
  {
   "cell_type": "code",
   "execution_count": null,
   "metadata": {},
   "outputs": [],
   "source": [
    "# Imports and config\n",
    "import os\n",
    "from pathlib import Path\n",
    "import pandas as pd\n",
    "import numpy as np\n",
    "import matplotlib.pyplot as plt\n",
    "import seaborn as sns\n",
    "from sqlalchemy import create_engine\n",
    "from dotenv import load_dotenv\n",
    "\n",
    "sns.set_theme(style=\"whitegrid\")\n",
    "pd.set_option(\"display.max_columns\", 200)\n",
    "\n",
    "# Load .env from project root if present\n",
    "ROOT = Path(__file__).resolve().parents[1]\n",
    "load_dotenv(ROOT / \".env\")\n",
    "\n",
    "# Toggle sources\n",
    "USE_DB = True  # set False to load from Parquet files in PARQUET_DIR\n",
    "PARQUET_DIR = ROOT / \"out_full\"  # adjust as needed if you wrote elsewhere\n",
    "\n",
    "DB_URL = os.getenv(\"DATABASE_URL\") or (\n",
    "    f\"mysql+pymysql://{os.getenv('DB_USER')}:{os.getenv('DB_PASSWORD')}@\"\n",
    "    f\"{os.getenv('DB_HOST')}:{os.getenv('DB_PORT')}/{os.getenv('DB_DATABASE')}?charset=utf8mb4\"\n",
    ")\n",
    "ENGINE = create_engine(DB_URL) if USE_DB else None\n",
    "print(\"DB_URL:\", DB_URL if USE_DB else \"<parquet mode>\")"
   ]
  },
  {
   "cell_type": "markdown",
   "metadata": {},
   "source": [
    "### Load core tables\n",
    "### Adjust SEASON_START and SEASON_END to scope the data volume."
   ]
  },
  {
   "cell_type": "code",
   "execution_count": null,
   "metadata": {},
   "outputs": [],
   "source": [
    "\n",
    "SEASON_START = 2015\n",
    "SEASON_END = 2025\n",
    "\n",
    "\n",
    "def read_table(name: str) -> pd.DataFrame:\n",
    "    if USE_DB:\n",
    "        q = f\"SELECT * FROM `{name}`\"\n",
    "        # season filter for large tables\n",
    "        if name in {\"games\", \"game_players\", \"game_teams\", \"linescores\", \"plays\", \"pitches\"}:\n",
    "            q += f\" WHERE season BETWEEN {SEASON_START} AND {SEASON_END}\"\n",
    "        return pd.read_sql(q, ENGINE)\n",
    "    p = PARQUET_DIR / f\"{name}.parquet\"\n",
    "    return pd.read_parquet(p) if p.exists() else pd.DataFrame()\n",
    "\n",
    "\n",
    "teams = read_table(\"teams\")\n",
    "games = read_table(\"games\")\n",
    "game_teams = read_table(\"game_teams\")\n",
    "game_players = read_table(\"game_players\")\n",
    "linescores = read_table(\"linescores\")\n",
    "standings = read_table(\"standings\")\n",
    "print(\"Shapes:\", games.shape, game_teams.shape, game_players.shape, linescores.shape)"
   ]
  }
 ],
 "metadata": {
  "kernelspec": {
   "display_name": "Python 3",
   "language": "python",
   "name": "python3"
  },
  "language_info": {
   "name": "python",
   "version": "3.13.3"
  }
 },
 "nbformat": 4,
 "nbformat_minor": 2
}
